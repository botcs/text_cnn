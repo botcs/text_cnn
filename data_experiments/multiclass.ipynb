{
 "cells": [
  {
   "cell_type": "code",
   "execution_count": 3,
   "metadata": {
    "collapsed": false
   },
   "outputs": [
    {
     "ename": "ImportError",
     "evalue": "No module named 'sklearn'",
     "output_type": "error",
     "traceback": [
      "\u001b[0;31m---------------------------------------------------------------------------\u001b[0m",
      "\u001b[0;31mImportError\u001b[0m                               Traceback (most recent call last)",
      "\u001b[0;32m<ipython-input-3-9123d5038a5c>\u001b[0m in \u001b[0;36m<module>\u001b[0;34m()\u001b[0m\n\u001b[0;32m----> 1\u001b[0;31m \u001b[0;32mfrom\u001b[0m \u001b[0msklearn\u001b[0m \u001b[0;32mimport\u001b[0m \u001b[0mdatasets\u001b[0m\u001b[0;34m\u001b[0m\u001b[0m\n\u001b[0m",
      "\u001b[0;31mImportError\u001b[0m: No module named 'sklearn'"
     ]
    }
   ],
   "source": []
  },
  {
   "cell_type": "code",
   "execution_count": 17,
   "metadata": {
    "collapsed": true
   },
   "outputs": [],
   "source": [
    "import tensorflow as tf\n",
    "import numpy as np\n",
    "\n",
    "sequence_length = 32\n",
    "num_classes = 5"
   ]
  },
  {
   "cell_type": "code",
   "execution_count": 47,
   "metadata": {
    "collapsed": false
   },
   "outputs": [],
   "source": [
    "x = tf.placeholder(tf.float32, [None, sequence_length])\n",
    "y = tf.placeholder(tf.float32, [None, num_classes])\n",
    "\n",
    "y_pred = tf.contrib.layers.fully_connected(x, num_classes, activation_fn=None)\n",
    "\n",
    "loss = tf.nn.sigmoid_cross_entropy_with_logits(y_pred, y)\n",
    "loss = tf.reduce_mean(loss)"
   ]
  },
  {
   "cell_type": "code",
   "execution_count": 49,
   "metadata": {
    "collapsed": false
   },
   "outputs": [
    {
     "name": "stdout",
     "output_type": "stream",
     "text": [
      "[[-5.66466618 -5.33471966  5.61610889  5.74477386  5.23424196]\n",
      " [-5.12271786 -5.18986225  5.15170574  4.63193798  5.47085857]\n",
      " [-4.44484997 -4.28440189  4.33090925  4.93728781  4.42050457]\n",
      " [-5.97144604 -5.97300434  5.2774663   5.21949577  5.30353832]\n",
      " [-6.35644388 -7.24684334  6.5868907   6.51005316  7.60603905]\n",
      " [-5.97695827 -7.59464645  7.92811441  6.27352762  6.9164257 ]\n",
      " [-5.97029495 -6.93450499  6.33861065  6.13938856  7.49371624]\n",
      " [-5.7572155  -5.64999485  5.86985111  5.77153587  5.60443211]\n",
      " [-6.00291729 -4.93190336  5.37128305  6.03584576  5.52750587]\n",
      " [-5.50127697 -5.89733267  5.62496424  5.88467932  5.15043449]]\n",
      "[[  3.45433084e-03   4.79812827e-03   9.96374428e-01   9.96810734e-01\n",
      "    9.94697332e-01]\n",
      " [  5.92449401e-03   5.54189086e-03   9.94243801e-01   9.90358055e-01\n",
      "    9.95810032e-01]\n",
      " [  1.16026653e-02   1.35945044e-02   9.87015247e-01   9.92877066e-01\n",
      "    9.88114715e-01]\n",
      " [  2.54406175e-03   2.54011038e-03   9.94920552e-01   9.94619012e-01\n",
      "    9.95050609e-01]\n",
      " [  1.73252053e-03   7.11912580e-04   9.98623610e-01   9.98513758e-01\n",
      "    9.99502778e-01]\n",
      " [  2.53011216e-03   5.02884795e-04   9.99639630e-01   9.98118043e-01\n",
      "    9.99009609e-01]\n",
      " [  2.54698447e-03   9.72657872e-04   9.98236299e-01   9.97848392e-01\n",
      "    9.99443710e-01]\n",
      " [  3.14994482e-03   3.50520504e-03   9.97184575e-01   9.96894717e-01\n",
      "    9.96331990e-01]\n",
      " [  2.46543810e-03   7.16110971e-03   9.95373309e-01   9.97614264e-01\n",
      "    9.96039867e-01]\n",
      " [  4.06496460e-03   2.73923762e-03   9.96406257e-01   9.97225940e-01\n",
      "    9.94236529e-01]]\n"
     ]
    }
   ],
   "source": [
    "opt = tf.train.GradientDescentOptimizer(.05).minimize(loss)\n",
    "sess = tf.InteractiveSession()\n",
    "\n",
    "tf.global_variables_initializer().run()\n",
    "x_feed = np.random.randint(2, size=(10, sequence_length))\n",
    "y_feed = np.ones((10, num_classes))\n",
    "y_feed[:, :2] = 0\n",
    "\n",
    "for _ in range(3000):\n",
    "    l, _ = sess.run([loss, opt], {x:x_feed, y:y_feed})\n",
    "\n",
    "print(y_pred.eval({x:x_feed}))    \n",
    "print(tf.sigmoid(y_pred).eval({x:x_feed}))\n",
    "\n"
   ]
  },
  {
   "cell_type": "code",
   "execution_count": 58,
   "metadata": {
    "collapsed": false
   },
   "outputs": [
    {
     "data": {
      "text/plain": [
       "array([ 0.,  1.,  0.,  0.,  1.,  0.,  1.], dtype=float32)"
      ]
     },
     "execution_count": 58,
     "metadata": {},
     "output_type": "execute_result"
    }
   ],
   "source": [
    "indices = [1, 4, 6]\n",
    "\n",
    "oh = tf.one_hot(indices, 7)\n",
    "tf.reduce_max(oh, 0).eval()"
   ]
  },
  {
   "cell_type": "code",
   "execution_count": null,
   "metadata": {
    "collapsed": true
   },
   "outputs": [],
   "source": []
  }
 ],
 "metadata": {
  "kernelspec": {
   "display_name": "Python 3",
   "language": "python",
   "name": "python3"
  },
  "language_info": {
   "codemirror_mode": {
    "name": "ipython",
    "version": 3
   },
   "file_extension": ".py",
   "mimetype": "text/x-python",
   "name": "python",
   "nbconvert_exporter": "python",
   "pygments_lexer": "ipython3",
   "version": "3.5.2"
  }
 },
 "nbformat": 4,
 "nbformat_minor": 2
}
